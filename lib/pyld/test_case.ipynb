{
 "cells": [
  {
   "cell_type": "code",
   "execution_count": 1,
   "metadata": {},
   "outputs": [],
   "source": [
    "import jsonld"
   ]
  },
  {
   "cell_type": "markdown",
   "metadata": {},
   "source": [
    "# Issue 1"
   ]
  },
  {
   "cell_type": "markdown",
   "metadata": {},
   "source": [
    "### KeyError: 'http://schema.org/item' #96 \n",
    "### Link: https://github.com/digitalbazaar/pyld/issues/96"
   ]
  },
  {
   "cell_type": "code",
   "execution_count": null,
   "metadata": {},
   "outputs": [],
   "source": [
    "x = jsonld.frame(\n",
    "  {\n",
    "    \"@context\": \"http://schema.org\",\n",
    "    \"@graph\": [\n",
    "      {\n",
    "        \"@type\": \"BreadcrumbList\",\n",
    "        \"itemListElement\": [\n",
    "          {\n",
    "            \"@type\": \"ListItem\",\n",
    "            \"item\": {\n",
    "              \"@id\": \"https://example.com/\",\n",
    "              \"@type\": \"WebPage\",\n",
    "              \"url\": \"https://example.com/\"\n",
    "            }\n",
    "          }\n",
    "        ]\n",
    "      }\n",
    "    ]\n",
    "  },\n",
    "  {}\n",
    ")"
   ]
  },
  {
   "cell_type": "code",
   "execution_count": null,
   "metadata": {},
   "outputs": [],
   "source": [
    "print(x)"
   ]
  },
  {
   "cell_type": "markdown",
   "metadata": {},
   "source": [
    "# Issue 2"
   ]
  },
  {
   "cell_type": "markdown",
   "metadata": {},
   "source": [
    "### JSON Literals not supported via @json KEYWORD #100\n",
    "### Link : https://github.com/digitalbazaar/pyld/issues/100"
   ]
  },
  {
   "cell_type": "code",
   "execution_count": null,
   "metadata": {},
   "outputs": [],
   "source": [
    "\n",
    "##Basic test case 1: \n",
    "\n",
    "document1 = jsonld.expand(\n",
    "{\n",
    "    \"@context\": {\n",
    "      \"@version\": 1.1,\n",
    "      \"e\": {\"@id\": \"http://example.com/vocab/json\", \"@type\": \"@json\"}\n",
    "    },\n",
    "    \"e\": [ 1,2,3,4 ]\n",
    "  }\n",
    ")\n",
    "\n",
    "##Basic test case 2:\n",
    "\n",
    "document2 = jsonld.expand(\n",
    "{\n",
    "    \"@context\": {\n",
    "      \"@version\": 1.1,\n",
    "      \"e\": {\"@id\": \"http://example.com/vocab/json\", \"@type\": \"@json\"}\n",
    "    },\n",
    "    \"e\": [ 1,2,3,4 ]\n",
    "  }\n",
    ")"
   ]
  },
  {
   "cell_type": "code",
   "execution_count": null,
   "metadata": {},
   "outputs": [],
   "source": [
    "\n",
    "##Advanced Test Case original for issue 2 (1)\n",
    "document3 = jsonld.expand( {\n",
    "  \"@context\": {\n",
    "    \"@version\": 1.1,\n",
    "    \"e\": {\"@id\": \"http://example.com/vocab/json\", \"@type\": \"@json\"}\n",
    "  },\n",
    "  \"e\": {\n",
    "    \"json value\": 56.0,\n",
    "    \"integrated_json\":\n",
    "    {\n",
    "      \"d\": True,\n",
    "      \"10\": None,\n",
    "      \"1\": {\"sweetchecker \": [1,2,3,4 ]}\n",
    "    }\n",
    "  }\n",
    "})\n",
    "\n",
    "##Advanced Test Case modified for issue 2 (2)\n",
    "document4 = jsonld.expand( {\n",
    "  \"@context\": {\n",
    "    \"@version\": 1.1,\n",
    "    \"e\": {\"@id\": \"http://example.com/vocab/json\", \"@type\": \"@json\"}\n",
    "  },\n",
    "  \"e\": [\n",
    "    56.0,\n",
    "    {\n",
    "      \"d\": True,\n",
    "      \"10\": None,\n",
    "      \"1\": {\"sweetchecker \": [1,2,3,4 ]}\n",
    "    }\n",
    "  ]\n",
    "})"
   ]
  },
  {
   "cell_type": "code",
   "execution_count": null,
   "metadata": {},
   "outputs": [],
   "source": [
    "print(\"Easy test case: \")\n",
    "print(\"1\")\n",
    "print(document1)\n",
    "print(\"Easy test case: \")\n",
    "print(\"2\")\n",
    "print(document2)\n",
    "print(\"Advanced test case: \")\n",
    "print(\"1\")\n",
    "print(document3)\n",
    "print(\"Advanced test case: \")\n",
    "print(\"1\")\n",
    "print(document4)"
   ]
  },
  {
   "cell_type": "markdown",
   "metadata": {},
   "source": [
    "# Issue 3"
   ]
  },
  {
   "cell_type": "markdown",
   "metadata": {},
   "source": [
    "### Issue with jsonld.normalize(). #99\n",
    "### Link:  https://github.com/digitalbazaar/pyld/issues/99"
   ]
  },
  {
   "cell_type": "code",
   "execution_count": null,
   "metadata": {},
   "outputs": [],
   "source": [
    "#working example\n",
    "doc ={\n",
    "  \"@context\": {\n",
    "    \"ical\": \"http://www.w3.org/2002/12/cal/ical#\",\n",
    "    \"xsd\": \"http://www.w3.org/2001/XMLSchema#\",\n",
    "    \"ical:dtstart\": {\n",
    "      \"@type\": \"xsd:dateTime\"\n",
    "    }\n",
    "  },\n",
    "  \"ical:summary\": \"Lady Gaga Concert\",\n",
    "  \"ical:location\": \"New Orleans Arena, New Orleans, Louisiana, USA\",\n",
    "  \"ical:dtstart\": \"2011-04-09T20:00:00Z\"\n",
    "}\n",
    "print(jsonld.normalize(doc))"
   ]
  },
  {
   "cell_type": "code",
   "execution_count": 2,
   "metadata": {},
   "outputs": [
    {
     "name": "stdout",
     "output_type": "stream",
     "text": [
      "{'@default': [{'subject': {'type': 'IRI', 'value': 'did:example:ebfeb1f712ebc6f1c276e12ec21'}, 'predicate': {'type': 'IRI', 'value': 'http://schema.org/alumniOf'}, 'object': {'type': 'literal', 'datatype': 'http://www.w3.org/1999/02/22-rdf-syntax-ns#HTML', 'value': 'Example University'}}, {'subject': {'type': 'IRI', 'value': 'https://example.com/credentials/1872'}, 'predicate': {'type': 'IRI', 'value': 'http://www.w3.org/1999/02/22-rdf-syntax-ns#type'}, 'object': {'type': 'IRI', 'value': 'https://www.w3.org/2018/credentials#VerifiableCredential'}}, {'subject': {'type': 'IRI', 'value': 'https://example.com/credentials/1872'}, 'predicate': {'type': 'IRI', 'value': 'https://www.w3.org/2018/credentials#credentialSubject'}, 'object': {'type': 'IRI', 'value': 'did:example:ebfeb1f712ebc6f1c276e12ec21'}}, {'subject': {'type': 'IRI', 'value': 'https://example.com/credentials/1872'}, 'predicate': {'type': 'IRI', 'value': 'https://www.w3.org/2018/credentials#issuanceDate'}, 'object': {'type': 'literal', 'datatype': 'http://www.w3.org/2001/XMLSchema#dateTime', 'value': '2010-01-01T19:23:24Z'}}]}\n"
     ]
    }
   ],
   "source": [
    "#our example\n",
    "doc ={\n",
    "  \"@context\": [\n",
    "    \"https://www.w3.org/2018/credentials/v1\",\n",
    "    \"https://www.w3.org/2018/credentials/examples/v1\"\n",
    "  ],\n",
    "  \"id\": \"https://example.com/credentials/1872\",\n",
    "  \"type\": [\"VerifiableCredential\", \"AlumniCredential\"],\n",
    "  \"issuanceDate\": \"2010-01-01T19:23:24Z\",\n",
    "  \"credentialSubject\": {\n",
    "    \"id\": \"did:example:ebfeb1f712ebc6f1c276e12ec21\",\n",
    "    \"alumniOf\": \"Example University\"\n",
    "  }\n",
    "}\n",
    "\n",
    "print(jsonld.normalize(doc))"
   ]
  }
 ],
 "metadata": {
  "kernelspec": {
   "display_name": "Python 3",
   "language": "python",
   "name": "python3"
  },
  "language_info": {
   "codemirror_mode": {
    "name": "ipython",
    "version": 3
   },
   "file_extension": ".py",
   "mimetype": "text/x-python",
   "name": "python",
   "nbconvert_exporter": "python",
   "pygments_lexer": "ipython3",
   "version": "3.7.4"
  }
 },
 "nbformat": 4,
 "nbformat_minor": 2
}
