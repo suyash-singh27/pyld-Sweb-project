{
 "cells": [
  {
   "cell_type": "code",
   "execution_count": 1,
   "metadata": {},
   "outputs": [],
   "source": [
    "import jsonld"
   ]
  },
  {
   "cell_type": "code",
   "execution_count": 2,
   "metadata": {},
   "outputs": [
    {
     "name": "stdout",
     "output_type": "stream",
     "text": [
      "@Type is @Json\n"
     ]
    }
   ],
   "source": [
    "\n",
    "##Basic test case 1: \n",
    "\n",
    "document1 = jsonld.expand(\n",
    "{\n",
    "    \"@context\": {\n",
    "      \"@version\": 1.1,\n",
    "      \"e\": {\"@id\": \"http://example.com/vocab/json\", \"@type\": \"@json\"}\n",
    "    },\n",
    "    \"e\": []\n",
    "  }\n",
    ")\n",
    "\n",
    "##Basic test case 2:\n",
    "\n",
    "document2 = jsonld.expand(\n",
    "{\n",
    "    \"@context\": {\n",
    "      \"@version\": 1.1,\n",
    "      \"e\": {\"@id\": \"http://example.com/vocab/json\", \"@type\": \"@json\"}\n",
    "    },\n",
    "    \"e\": [ 1,2,3,4 ]\n",
    "  }\n",
    ")"
   ]
  },
  {
   "cell_type": "code",
   "execution_count": 4,
   "metadata": {},
   "outputs": [],
   "source": [
    "\n",
    "##Advanced Test Case original for issue 2 (1)\n",
    "document3 = jsonld.expand( {\n",
    "  \"@context\": {\n",
    "    \"@version\": 1.1,\n",
    "    \"e\": {\"@id\": \"http://example.com/vocab/json\", \"@type\": \"@json\"}\n",
    "  },\n",
    "  \"e\": [\n",
    "    56.0,\n",
    "    {\n",
    "      \"d\": True,\n",
    "      \"10\": None,\n",
    "      \"1\": []\n",
    "    }\n",
    "  ]\n",
    "})\n",
    "\n",
    "##Advanced Test Case modified for issue 2 (2)\n",
    "##Handling Json Object inside Json object\n",
    "document4 = jsonld.expand( {\n",
    "  \"@context\": {\n",
    "    \"@version\": 1.1,\n",
    "    \"e\": {\"@id\": \"http://example.com/vocab/json\", \"@type\": \"@json\"}\n",
    "  },\n",
    "  \"e\": [\n",
    "    56.0,\n",
    "    {\n",
    "      \"d\": True,\n",
    "      \"10\": None,\n",
    "      \"1\": {\"internal_key\": [1,2,3,4]}\n",
    "    }\n",
    "  ]\n",
    "})"
   ]
  },
  {
   "cell_type": "code",
   "execution_count": 5,
   "metadata": {},
   "outputs": [
    {
     "name": "stdout",
     "output_type": "stream",
     "text": [
      "Easy test case: \n",
      "1\n",
      "[{'http://example.com/vocab/json': [{'@type': '@json', '@value': [1, 2, 3, 4]}]}]\n",
      "Easy test case: \n",
      "2\n",
      "[{'http://example.com/vocab/json': [{'@type': '@json', '@value': [1, 2, 3, 4]}]}]\n",
      "Advanced test case: \n",
      "1\n",
      "[{'http://example.com/vocab/json': [{'@type': '@json', '@value': [56.0, {'d': True, '10': None, '1': []}]}]}]\n",
      "Advanced test case: \n",
      "1\n",
      "[{'http://example.com/vocab/json': [{'@type': '@json', '@value': [56.0, {'d': True, '10': None, '1': {'internal_key': [1, 2, 3, 4]}}]}]}]\n"
     ]
    }
   ],
   "source": [
    "print(\"Easy test case: \")\n",
    "print(\"1\")\n",
    "print(document1)\n",
    "print(\"Easy test case: \")\n",
    "print(\"2\")\n",
    "print(document2)\n",
    "print(\"Advanced test case: \")\n",
    "print(\"1\")\n",
    "print(document3)\n",
    "print(\"Advanced test case: \")\n",
    "print(\"1\")\n",
    "print(document4)"
   ]
  }
 ],
 "metadata": {
  "kernelspec": {
   "display_name": "Python 3",
   "language": "python",
   "name": "python3"
  },
  "language_info": {
   "codemirror_mode": {
    "name": "ipython",
    "version": 3
   },
   "file_extension": ".py",
   "mimetype": "text/x-python",
   "name": "python",
   "nbconvert_exporter": "python",
   "pygments_lexer": "ipython3",
   "version": "3.7.4"
  }
 },
 "nbformat": 4,
 "nbformat_minor": 2
}
